{
 "cells": [
  {
   "cell_type": "markdown",
   "id": "1b43f9ac-fd0f-4b33-8603-7584e3ac446c",
   "metadata": {},
   "source": [
    "# Training Deep Neural Networks"
   ]
  },
  {
   "cell_type": "code",
   "execution_count": 23,
   "id": "c7e58289-272c-4d4d-b449-094e83a4b9c0",
   "metadata": {},
   "outputs": [],
   "source": [
    "import tensorflow as tf\n",
    "from tensorflow import keras"
   ]
  },
  {
   "cell_type": "code",
   "execution_count": 24,
   "id": "e4b1745b-b50c-4261-857c-d6b84432d24a",
   "metadata": {},
   "outputs": [
    {
     "data": {
      "text/plain": [
       "<keras.src.layers.core.dense.Dense at 0x7fa5bbb230d0>"
      ]
     },
     "execution_count": 24,
     "metadata": {},
     "output_type": "execute_result"
    }
   ],
   "source": [
    "keras.layers.Dense(10, activation=\"relu\", kernel_initializer=keras.initializers.he_normal)"
   ]
  },
  {
   "cell_type": "code",
   "execution_count": 25,
   "id": "9108e0d7-f821-4a77-a0e9-cd808062132b",
   "metadata": {},
   "outputs": [
    {
     "data": {
      "text/plain": [
       "<keras.src.layers.core.dense.Dense at 0x7fa5bbb21f30>"
      ]
     },
     "execution_count": 25,
     "metadata": {},
     "output_type": "execute_result"
    }
   ],
   "source": [
    "he_avg_init = keras.initializers.VarianceScaling(scale=2, mode=\"fan_avg\",\n",
    "                                                 distribution='uniform')\n",
    "keras.layers.Dense(10, activation='sigmoid', kernel_initializer=he_avg_init)"
   ]
  },
  {
   "cell_type": "code",
   "execution_count": 26,
   "id": "035642b5-1107-44e9-87ac-603640512b1b",
   "metadata": {},
   "outputs": [
    {
     "data": {
      "text/plain": [
       "<keras.src.layers.core.dense.Dense at 0x7fa5bbb21b70>"
      ]
     },
     "execution_count": 26,
     "metadata": {},
     "output_type": "execute_result"
    }
   ],
   "source": [
    "keras.layers.Dense(10, activation=keras.activations.selu, kernel_initializer=keras.initializers.lecun_normal)"
   ]
  },
  {
   "cell_type": "code",
   "execution_count": 27,
   "id": "555c98d9-7a2c-43d4-b35e-11fef7b32f26",
   "metadata": {},
   "outputs": [],
   "source": [
    "model = keras.models.Sequential([\n",
    " keras.layers.Flatten(input_shape=[28, 28]),\n",
    " keras.layers.BatchNormalization(),\n",
    " keras.layers.Dense(300, activation=\"elu\", kernel_initializer=\"he_normal\"),\n",
    " keras.layers.BatchNormalization(),\n",
    " keras.layers.Dense(100, activation=\"elu\", kernel_initializer=\"he_normal\"),\n",
    " keras.layers.BatchNormalization(),\n",
    " keras.layers.Dense(10, activation=\"softmax\")\n",
    "])"
   ]
  },
  {
   "cell_type": "code",
   "execution_count": 28,
   "id": "e64c5983-cc87-432d-8672-f45538ba0cf9",
   "metadata": {},
   "outputs": [
    {
     "name": "stdout",
     "output_type": "stream",
     "text": [
      "Model: \"sequential_4\"\n",
      "_________________________________________________________________\n",
      " Layer (type)                Output Shape              Param #   \n",
      "=================================================================\n",
      " flatten_4 (Flatten)         (None, 784)               0         \n",
      "                                                                 \n",
      " batch_normalization_6 (Bat  (None, 784)               3136      \n",
      " chNormalization)                                                \n",
      "                                                                 \n",
      " dense_18 (Dense)            (None, 300)               235500    \n",
      "                                                                 \n",
      " batch_normalization_7 (Bat  (None, 300)               1200      \n",
      " chNormalization)                                                \n",
      "                                                                 \n",
      " dense_19 (Dense)            (None, 100)               30100     \n",
      "                                                                 \n",
      " batch_normalization_8 (Bat  (None, 100)               400       \n",
      " chNormalization)                                                \n",
      "                                                                 \n",
      " dense_20 (Dense)            (None, 10)                1010      \n",
      "                                                                 \n",
      "=================================================================\n",
      "Total params: 271346 (1.04 MB)\n",
      "Trainable params: 268978 (1.03 MB)\n",
      "Non-trainable params: 2368 (9.25 KB)\n",
      "_________________________________________________________________\n"
     ]
    }
   ],
   "source": [
    "model.summary()"
   ]
  },
  {
   "cell_type": "code",
   "execution_count": 29,
   "id": "08e6d475-4d62-422a-8411-540bb8a8d8dc",
   "metadata": {},
   "outputs": [
    {
     "data": {
      "text/plain": [
       "[('batch_normalization_6/gamma:0', True),\n",
       " ('batch_normalization_6/beta:0', True),\n",
       " ('batch_normalization_6/moving_mean:0', False),\n",
       " ('batch_normalization_6/moving_variance:0', False)]"
      ]
     },
     "execution_count": 29,
     "metadata": {},
     "output_type": "execute_result"
    }
   ],
   "source": [
    "[(var.name, var.trainable) for var in model.layers[1].variables]"
   ]
  },
  {
   "cell_type": "code",
   "execution_count": 30,
   "id": "c44bc6af-006b-4dc3-afbf-604dac44bdc1",
   "metadata": {},
   "outputs": [
    {
     "name": "stderr",
     "output_type": "stream",
     "text": [
      "/tmp/ipykernel_669/3873162892.py:1: UserWarning: `layer.updates` will be removed in a future version. This property should not be used in TensorFlow 2.0, as `updates` are applied automatically.\n",
      "  model.layers[1].updates\n"
     ]
    },
    {
     "data": {
      "text/plain": [
       "[]"
      ]
     },
     "execution_count": 30,
     "metadata": {},
     "output_type": "execute_result"
    }
   ],
   "source": [
    "model.layers[1].updates"
   ]
  },
  {
   "cell_type": "code",
   "execution_count": 31,
   "id": "66949ad0-b1ef-4e38-8597-ad7b11b74cde",
   "metadata": {},
   "outputs": [],
   "source": [
    "model = keras.models.Sequential([\n",
    " keras.layers.Flatten(input_shape=[28, 28]),\n",
    " keras.layers.BatchNormalization(),\n",
    " keras.layers.Dense(300, kernel_initializer=\"he_normal\", use_bias=False),\n",
    " keras.layers.BatchNormalization(),\n",
    " keras.layers.Activation(\"elu\"),\n",
    " keras.layers.Dense(100, kernel_initializer=\"he_normal\", use_bias=False),\n",
    " keras.layers.BatchNormalization(),\n",
    " keras.layers.Activation(\"elu\"),\n",
    " keras.layers.Dense(10, activation=\"softmax\")\n",
    "])"
   ]
  },
  {
   "cell_type": "code",
   "execution_count": 32,
   "id": "25caa9a2-28b0-4a6b-8386-bee6bd68f7e6",
   "metadata": {},
   "outputs": [],
   "source": [
    "optimizer = keras.optimizers.SGD(clipvalue=1.0)\n",
    "model.compile(loss=keras.losses.mse, optimizer=optimizer)"
   ]
  },
  {
   "cell_type": "code",
   "execution_count": 33,
   "id": "d60b174d-52bd-46a0-b622-5592c2bbdfd9",
   "metadata": {},
   "outputs": [],
   "source": [
    "optimizer = keras.optimizers.SGD(learning_rate=0.001, momentum=0.9, nesterov=True)"
   ]
  },
  {
   "cell_type": "code",
   "execution_count": 34,
   "id": "7175719a-d899-4641-94b5-ee8fb61d68c5",
   "metadata": {},
   "outputs": [],
   "source": [
    "optimizer = keras.optimizers.RMSprop(learning_rate=0.001, rho=0.9)"
   ]
  },
  {
   "cell_type": "code",
   "execution_count": 35,
   "id": "c9dda559-1755-4028-81d9-14b4ffe9ba8a",
   "metadata": {},
   "outputs": [],
   "source": [
    "optimizer = keras.optimizers.Adam(learning_rate=0.001, beta_1=0.9, beta_2=0.999)"
   ]
  },
  {
   "cell_type": "code",
   "execution_count": 36,
   "id": "130bbfbe-4b41-4e7b-b4ba-61d1e3621192",
   "metadata": {},
   "outputs": [],
   "source": [
    "optimizer = keras.optimizers.legacy.SGD(learning_rate=0.01, decay=1e-4)"
   ]
  },
  {
   "cell_type": "code",
   "execution_count": 37,
   "id": "ef43b291-3755-4e23-b6cd-b97d703de280",
   "metadata": {},
   "outputs": [],
   "source": [
    "def exponential_decay_fn(epoch):\n",
    "    return 0.01 * 0.1 ** (epoch / 20)"
   ]
  },
  {
   "cell_type": "code",
   "execution_count": 38,
   "id": "9a9e82de-22d4-4be7-8849-ae425b09f606",
   "metadata": {},
   "outputs": [],
   "source": [
    "def exponential_decay(lr0, s):\n",
    "    def exponential_decay_fn(epoch):\n",
    "        return lr0 * 0.1 ** (epoch / s)\n",
    "    return exponential_decay_fn"
   ]
  },
  {
   "cell_type": "code",
   "execution_count": 39,
   "id": "9bdb3dc1-bb91-47c0-9139-b0343890a65d",
   "metadata": {},
   "outputs": [],
   "source": [
    "lr_scheduler = keras.callbacks.LearningRateScheduler(exponential_decay_fn)\n",
    "# history = model.fit(X_train_scaled, ..., callbacks=[lr_scheduler])"
   ]
  },
  {
   "cell_type": "code",
   "execution_count": 40,
   "id": "d5dae96c-5f6b-4394-bf1a-b6bbae901404",
   "metadata": {},
   "outputs": [],
   "source": [
    "lr_scheduler = keras.callbacks.ReduceLROnPlateau(factor=0.5, patience=5)"
   ]
  },
  {
   "cell_type": "code",
   "execution_count": 41,
   "id": "48689b41-a424-4a5b-ae27-4fc633965ac1",
   "metadata": {},
   "outputs": [],
   "source": [
    "X_train = []\n",
    "s = 20 * len(X_train) // 32\n",
    "learning_rate = keras.optimizers.schedules.ExponentialDecay(0.01, s, 0.1)\n",
    "optimizer = keras.optimizers.SGD(learning_rate)"
   ]
  },
  {
   "cell_type": "code",
   "execution_count": 42,
   "id": "6a7ca0c6-6ffb-4ab1-9c22-65f3bdd81ff0",
   "metadata": {},
   "outputs": [],
   "source": [
    "from functools import partial\n",
    "\n",
    "RegularizedDense = partial(keras.layers.Dense,\n",
    "                           activation=\"elu\",\n",
    "                           kernel_initializer=keras.initializers.he_normal,\n",
    "                           kernel_regularizer=keras.regularizers.l2(0.1))"
   ]
  },
  {
   "cell_type": "code",
   "execution_count": 43,
   "id": "f4954cbe-ebd0-4a62-af1b-3262233f53c6",
   "metadata": {},
   "outputs": [],
   "source": [
    "model = keras.models.Sequential([\n",
    "    keras.layers.Flatten(input_shape=[28, 28]),\n",
    "    RegularizedDense(300),\n",
    "    RegularizedDense(100),\n",
    "    RegularizedDense(10, activation=keras.activations.softmax,\n",
    "                     kernel_initializer=keras.initializers.glorot_uniform)\n",
    "])"
   ]
  },
  {
   "cell_type": "code",
   "execution_count": 44,
   "id": "a275b66e-7b55-4d49-958e-e648ce539bc0",
   "metadata": {},
   "outputs": [],
   "source": [
    "model = keras.models.Sequential([\n",
    " keras.layers.Flatten(input_shape=[28, 28]),\n",
    " keras.layers.Dropout(rate=0.2),\n",
    " keras.layers.Dense(300, activation=\"elu\", kernel_initializer=\"he_normal\"),\n",
    " keras.layers.Dropout(rate=0.2),\n",
    " keras.layers.Dense(100, activation=\"elu\", kernel_initializer=\"he_normal\"),\n",
    " keras.layers.Dropout(rate=0.2),\n",
    " keras.layers.Dense(10, activation=\"softmax\")\n",
    "])"
   ]
  },
  {
   "cell_type": "markdown",
   "id": "5654618e-521d-4542-aac4-217970c16d92",
   "metadata": {},
   "source": [
    "# Exercises"
   ]
  },
  {
   "cell_type": "code",
   "execution_count": 46,
   "id": "9308b05a-e8a4-48aa-81b2-4f40a6b4d106",
   "metadata": {},
   "outputs": [],
   "source": [
    "(X_train_full, y_train_full), (X_test, y_test) = keras.datasets.cifar10.load_data()"
   ]
  },
  {
   "cell_type": "code",
   "execution_count": 51,
   "id": "9cc9f673-f4ff-459e-9c56-6e728ab89139",
   "metadata": {},
   "outputs": [],
   "source": [
    "keras.backend.clear_session()\n",
    "model = keras.models.Sequential()\n",
    "model.add(keras.layers.Flatten(input_shape=X_train_full.shape[1:]))\n",
    "\n",
    "for _ in range(20):\n",
    "    model.add(keras.layers.Dense(100,\n",
    "                                activation=keras.activations.elu,\n",
    "                                kernel_initializer=keras.initializers.he_normal))"
   ]
  },
  {
   "cell_type": "code",
   "execution_count": 52,
   "id": "9b802443-2a97-489f-9d72-c65684f02ce4",
   "metadata": {},
   "outputs": [],
   "source": [
    "model.add(keras.layers.Dense(10, activation=keras.activations.softmax))"
   ]
  },
  {
   "cell_type": "code",
   "execution_count": 53,
   "id": "f137ea26-91fc-4865-befe-724c25de7181",
   "metadata": {},
   "outputs": [],
   "source": [
    "optimizer = keras.optimizers.Nadam(learning_rate=5e-5)\n",
    "model.compile(loss=keras.losses.sparse_categorical_crossentropy,\n",
    "             optimizer=optimizer,\n",
    "             metrics=[\"accuracy\"])"
   ]
  },
  {
   "cell_type": "code",
   "execution_count": 54,
   "id": "7b5ebe77-e54d-49c5-94d3-8f60ac78e843",
   "metadata": {},
   "outputs": [],
   "source": [
    "X_train = X_train_full[5000:]\n",
    "y_train = y_train_full[5000:]\n",
    "X_valid = X_train_full[:5000]\n",
    "y_valid = y_train_full[:5000]"
   ]
  },
  {
   "cell_type": "code",
   "execution_count": 55,
   "id": "1fb17a8a-bb4b-4eff-882b-9a24863e7822",
   "metadata": {},
   "outputs": [],
   "source": [
    "import os\n",
    "\n",
    "early_stopping_cb = keras.callbacks.EarlyStopping(patience=20)\n",
    "model_checkpoint_cb = keras.callbacks.ModelCheckpoint(\"my_cifar10_model.h5\", save_best_only=True)\n",
    "run_index = 1\n",
    "run_logdir = os.path.join(os.curdir, \"my_cifar10_logs\", \"run_{:03d}\".format(run_index))\n",
    "tensorboard_cb = keras.callbacks.TensorBoard(run_logdir)\n",
    "\n",
    "callbacks = [early_stopping_cb, model_checkpoint_cb, tensorboard_cb]"
   ]
  },
  {
   "cell_type": "code",
   "execution_count": 60,
   "id": "1bad664c-d519-480e-96bb-43adde143f84",
   "metadata": {},
   "outputs": [
    {
     "name": "stdout",
     "output_type": "stream",
     "text": [
      "The tensorboard extension is already loaded. To reload it, use:\n",
      "  %reload_ext tensorboard\n"
     ]
    },
    {
     "data": {
      "text/plain": [
       "Reusing TensorBoard on port 6006 (pid 2698), started 0:01:34 ago. (Use '!kill 2698' to kill it.)"
      ]
     },
     "metadata": {},
     "output_type": "display_data"
    },
    {
     "data": {
      "text/html": [
       "\n",
       "      <iframe id=\"tensorboard-frame-134e2dcc22b7e133\" width=\"100%\" height=\"800\" frameborder=\"0\">\n",
       "      </iframe>\n",
       "      <script>\n",
       "        (function() {\n",
       "          const frame = document.getElementById(\"tensorboard-frame-134e2dcc22b7e133\");\n",
       "          const url = new URL(\"/\", window.location);\n",
       "          const port = 6006;\n",
       "          if (port) {\n",
       "            url.port = port;\n",
       "          }\n",
       "          frame.src = url;\n",
       "        })();\n",
       "      </script>\n",
       "    "
      ],
      "text/plain": [
       "<IPython.core.display.HTML object>"
      ]
     },
     "metadata": {},
     "output_type": "display_data"
    }
   ],
   "source": [
    "%load_ext tensorboard\n",
    "%tensorboard --logdir=./my_cifar10_logs --port=6006"
   ]
  },
  {
   "cell_type": "code",
   "execution_count": 61,
   "id": "2b88f17e-dbd8-4ffc-a9bb-b8b1ff6270d1",
   "metadata": {},
   "outputs": [
    {
     "name": "stdout",
     "output_type": "stream",
     "text": [
      "Epoch 1/100\n",
      "1407/1407 [==============================] - 11s 5ms/step - loss: 3.8410 - accuracy: 0.1852 - val_loss: 2.3325 - val_accuracy: 0.1846\n",
      "Epoch 2/100\n",
      "  22/1407 [..............................] - ETA: 6s - loss: 2.1902 - accuracy: 0.2259"
     ]
    },
    {
     "name": "stderr",
     "output_type": "stream",
     "text": [
      "/home/mihnea/personal/ai/env/lib/python3.10/site-packages/keras/src/engine/training.py:3000: UserWarning: You are saving your model as an HDF5 file via `model.save()`. This file format is considered legacy. We recommend using instead the native Keras format, e.g. `model.save('my_model.keras')`.\n",
      "  saving_api.save_model(\n"
     ]
    },
    {
     "name": "stdout",
     "output_type": "stream",
     "text": [
      "1407/1407 [==============================] - 7s 5ms/step - loss: 2.0609 - accuracy: 0.2551 - val_loss: 2.0410 - val_accuracy: 0.2778\n",
      "Epoch 3/100\n",
      "1407/1407 [==============================] - 7s 5ms/step - loss: 1.9518 - accuracy: 0.2946 - val_loss: 1.9482 - val_accuracy: 0.3022\n",
      "Epoch 4/100\n",
      "1407/1407 [==============================] - 7s 5ms/step - loss: 1.8789 - accuracy: 0.3167 - val_loss: 1.8658 - val_accuracy: 0.3376\n",
      "Epoch 5/100\n",
      "1407/1407 [==============================] - 7s 5ms/step - loss: 1.8216 - accuracy: 0.3433 - val_loss: 1.8172 - val_accuracy: 0.3414\n",
      "Epoch 6/100\n",
      "1407/1407 [==============================] - 7s 5ms/step - loss: 1.7683 - accuracy: 0.3622 - val_loss: 1.7657 - val_accuracy: 0.3516\n",
      "Epoch 7/100\n",
      "1407/1407 [==============================] - 7s 5ms/step - loss: 1.7224 - accuracy: 0.3773 - val_loss: 1.7157 - val_accuracy: 0.3798\n",
      "Epoch 8/100\n",
      "1407/1407 [==============================] - 7s 5ms/step - loss: 1.6868 - accuracy: 0.3928 - val_loss: 1.7044 - val_accuracy: 0.3870\n",
      "Epoch 9/100\n",
      "1407/1407 [==============================] - 7s 5ms/step - loss: 1.6541 - accuracy: 0.4042 - val_loss: 1.7234 - val_accuracy: 0.3774\n",
      "Epoch 10/100\n",
      "1407/1407 [==============================] - 7s 5ms/step - loss: 1.6290 - accuracy: 0.4144 - val_loss: 1.6757 - val_accuracy: 0.3942\n",
      "Epoch 11/100\n",
      "1407/1407 [==============================] - 7s 5ms/step - loss: 1.6061 - accuracy: 0.4208 - val_loss: 1.6265 - val_accuracy: 0.4134\n",
      "Epoch 12/100\n",
      "1407/1407 [==============================] - 7s 5ms/step - loss: 1.5845 - accuracy: 0.4283 - val_loss: 1.6217 - val_accuracy: 0.4248\n",
      "Epoch 13/100\n",
      "1407/1407 [==============================] - 7s 5ms/step - loss: 1.5673 - accuracy: 0.4373 - val_loss: 1.6220 - val_accuracy: 0.4144\n",
      "Epoch 14/100\n",
      "1407/1407 [==============================] - 7s 5ms/step - loss: 1.5476 - accuracy: 0.4431 - val_loss: 1.6050 - val_accuracy: 0.4212\n",
      "Epoch 15/100\n",
      "1407/1407 [==============================] - 7s 5ms/step - loss: 1.5321 - accuracy: 0.4486 - val_loss: 1.6043 - val_accuracy: 0.4266\n",
      "Epoch 16/100\n",
      "1407/1407 [==============================] - 7s 5ms/step - loss: 1.5173 - accuracy: 0.4530 - val_loss: 1.5671 - val_accuracy: 0.4362\n",
      "Epoch 17/100\n",
      "1407/1407 [==============================] - 7s 5ms/step - loss: 1.5019 - accuracy: 0.4575 - val_loss: 1.5954 - val_accuracy: 0.4180\n",
      "Epoch 18/100\n",
      "1407/1407 [==============================] - 7s 5ms/step - loss: 1.4874 - accuracy: 0.4652 - val_loss: 1.6176 - val_accuracy: 0.4180\n",
      "Epoch 19/100\n",
      "1407/1407 [==============================] - 7s 5ms/step - loss: 1.4726 - accuracy: 0.4721 - val_loss: 1.6048 - val_accuracy: 0.4284\n",
      "Epoch 20/100\n",
      "1407/1407 [==============================] - 7s 5ms/step - loss: 1.4584 - accuracy: 0.4746 - val_loss: 1.5715 - val_accuracy: 0.4382\n",
      "Epoch 21/100\n",
      "1407/1407 [==============================] - 7s 5ms/step - loss: 1.4492 - accuracy: 0.4805 - val_loss: 1.5695 - val_accuracy: 0.4472\n",
      "Epoch 22/100\n",
      "1407/1407 [==============================] - 7s 5ms/step - loss: 1.4395 - accuracy: 0.4837 - val_loss: 1.5416 - val_accuracy: 0.4524\n",
      "Epoch 23/100\n",
      "1407/1407 [==============================] - 7s 5ms/step - loss: 1.4285 - accuracy: 0.4868 - val_loss: 1.5592 - val_accuracy: 0.4492\n",
      "Epoch 24/100\n",
      "1407/1407 [==============================] - 7s 5ms/step - loss: 1.4166 - accuracy: 0.4917 - val_loss: 1.5480 - val_accuracy: 0.4540\n",
      "Epoch 25/100\n",
      "1407/1407 [==============================] - 7s 5ms/step - loss: 1.4052 - accuracy: 0.4954 - val_loss: 1.5274 - val_accuracy: 0.4574\n",
      "Epoch 26/100\n",
      "1407/1407 [==============================] - 7s 5ms/step - loss: 1.3947 - accuracy: 0.4983 - val_loss: 1.5535 - val_accuracy: 0.4496\n",
      "Epoch 27/100\n",
      "1407/1407 [==============================] - 7s 5ms/step - loss: 1.3835 - accuracy: 0.5008 - val_loss: 1.5729 - val_accuracy: 0.4426\n",
      "Epoch 28/100\n",
      "1407/1407 [==============================] - 7s 5ms/step - loss: 1.3737 - accuracy: 0.5080 - val_loss: 1.5717 - val_accuracy: 0.4478\n",
      "Epoch 29/100\n",
      "1407/1407 [==============================] - 7s 5ms/step - loss: 1.3633 - accuracy: 0.5138 - val_loss: 1.5752 - val_accuracy: 0.4420\n",
      "Epoch 30/100\n",
      "1407/1407 [==============================] - 7s 5ms/step - loss: 1.3548 - accuracy: 0.5126 - val_loss: 1.5818 - val_accuracy: 0.4408\n",
      "Epoch 31/100\n",
      "1407/1407 [==============================] - 7s 5ms/step - loss: 1.3488 - accuracy: 0.5147 - val_loss: 1.5762 - val_accuracy: 0.4488\n",
      "Epoch 32/100\n",
      "1407/1407 [==============================] - 7s 5ms/step - loss: 1.3384 - accuracy: 0.5200 - val_loss: 1.6026 - val_accuracy: 0.4386\n",
      "Epoch 33/100\n",
      "1407/1407 [==============================] - 7s 5ms/step - loss: 1.3292 - accuracy: 0.5237 - val_loss: 1.6120 - val_accuracy: 0.4340\n",
      "Epoch 34/100\n",
      "1407/1407 [==============================] - 7s 5ms/step - loss: 1.3204 - accuracy: 0.5246 - val_loss: 1.5573 - val_accuracy: 0.4566\n",
      "Epoch 35/100\n",
      "1407/1407 [==============================] - 7s 5ms/step - loss: 1.3146 - accuracy: 0.5276 - val_loss: 1.5453 - val_accuracy: 0.4546\n",
      "Epoch 36/100\n",
      "1407/1407 [==============================] - 7s 5ms/step - loss: 1.3040 - accuracy: 0.5275 - val_loss: 1.5348 - val_accuracy: 0.4676\n",
      "Epoch 37/100\n",
      "1407/1407 [==============================] - 7s 5ms/step - loss: 1.2970 - accuracy: 0.5328 - val_loss: 1.5606 - val_accuracy: 0.4546\n",
      "Epoch 38/100\n",
      "1407/1407 [==============================] - 7s 5ms/step - loss: 1.2902 - accuracy: 0.5324 - val_loss: 1.5924 - val_accuracy: 0.4482\n",
      "Epoch 39/100\n",
      "1407/1407 [==============================] - 7s 5ms/step - loss: 1.2813 - accuracy: 0.5411 - val_loss: 1.5631 - val_accuracy: 0.4524\n",
      "Epoch 40/100\n",
      "1407/1407 [==============================] - 7s 5ms/step - loss: 1.2705 - accuracy: 0.5409 - val_loss: 1.5684 - val_accuracy: 0.4620\n",
      "Epoch 41/100\n",
      "1407/1407 [==============================] - 7s 5ms/step - loss: 1.2649 - accuracy: 0.5455 - val_loss: 1.5617 - val_accuracy: 0.4608\n",
      "Epoch 42/100\n",
      "1407/1407 [==============================] - 7s 5ms/step - loss: 1.2573 - accuracy: 0.5479 - val_loss: 1.5811 - val_accuracy: 0.4524\n",
      "Epoch 43/100\n",
      "1407/1407 [==============================] - 7s 5ms/step - loss: 1.2489 - accuracy: 0.5517 - val_loss: 1.5808 - val_accuracy: 0.4468\n",
      "Epoch 44/100\n",
      "1407/1407 [==============================] - 7s 5ms/step - loss: 1.2443 - accuracy: 0.5528 - val_loss: 1.5246 - val_accuracy: 0.4738\n",
      "Epoch 45/100\n",
      "1407/1407 [==============================] - 7s 5ms/step - loss: 1.2334 - accuracy: 0.5560 - val_loss: 1.5447 - val_accuracy: 0.4616\n",
      "Epoch 46/100\n",
      "1407/1407 [==============================] - 7s 5ms/step - loss: 1.2271 - accuracy: 0.5576 - val_loss: 1.5547 - val_accuracy: 0.4638\n",
      "Epoch 47/100\n",
      "1407/1407 [==============================] - 7s 5ms/step - loss: 1.2207 - accuracy: 0.5618 - val_loss: 1.5544 - val_accuracy: 0.4676\n",
      "Epoch 48/100\n",
      "1407/1407 [==============================] - 7s 5ms/step - loss: 1.2132 - accuracy: 0.5651 - val_loss: 1.5255 - val_accuracy: 0.4734\n",
      "Epoch 49/100\n",
      "1407/1407 [==============================] - 7s 5ms/step - loss: 1.2077 - accuracy: 0.5649 - val_loss: 1.5603 - val_accuracy: 0.4656\n",
      "Epoch 50/100\n",
      "1407/1407 [==============================] - 7s 5ms/step - loss: 1.2008 - accuracy: 0.5676 - val_loss: 1.5646 - val_accuracy: 0.4616\n",
      "Epoch 51/100\n",
      "1407/1407 [==============================] - 7s 5ms/step - loss: 1.1894 - accuracy: 0.5700 - val_loss: 1.5990 - val_accuracy: 0.4564\n",
      "Epoch 52/100\n",
      "1407/1407 [==============================] - 7s 5ms/step - loss: 1.1854 - accuracy: 0.5757 - val_loss: 1.5879 - val_accuracy: 0.4648\n",
      "Epoch 53/100\n",
      "1407/1407 [==============================] - 7s 5ms/step - loss: 1.1797 - accuracy: 0.5758 - val_loss: 1.5889 - val_accuracy: 0.4550\n",
      "Epoch 54/100\n",
      "1407/1407 [==============================] - 7s 5ms/step - loss: 1.1755 - accuracy: 0.5792 - val_loss: 1.5579 - val_accuracy: 0.4742\n",
      "Epoch 55/100\n",
      "1407/1407 [==============================] - 7s 5ms/step - loss: 1.1686 - accuracy: 0.5796 - val_loss: 1.5952 - val_accuracy: 0.4624\n",
      "Epoch 56/100\n",
      "1407/1407 [==============================] - 7s 5ms/step - loss: 1.1566 - accuracy: 0.5815 - val_loss: 1.5755 - val_accuracy: 0.4740\n",
      "Epoch 57/100\n",
      "1407/1407 [==============================] - 7s 5ms/step - loss: 1.1541 - accuracy: 0.5848 - val_loss: 1.5612 - val_accuracy: 0.4658\n",
      "Epoch 58/100\n",
      "1407/1407 [==============================] - 7s 5ms/step - loss: 1.1474 - accuracy: 0.5856 - val_loss: 1.5918 - val_accuracy: 0.4638\n",
      "Epoch 59/100\n",
      "1407/1407 [==============================] - 7s 5ms/step - loss: 1.1384 - accuracy: 0.5890 - val_loss: 1.5946 - val_accuracy: 0.4694\n",
      "Epoch 60/100\n",
      "1407/1407 [==============================] - 7s 5ms/step - loss: 1.1357 - accuracy: 0.5906 - val_loss: 1.6253 - val_accuracy: 0.4582\n",
      "Epoch 61/100\n",
      "1407/1407 [==============================] - 7s 5ms/step - loss: 1.1277 - accuracy: 0.5933 - val_loss: 1.6102 - val_accuracy: 0.4566\n",
      "Epoch 62/100\n",
      "1407/1407 [==============================] - 7s 5ms/step - loss: 1.1196 - accuracy: 0.5977 - val_loss: 1.6306 - val_accuracy: 0.4582\n",
      "Epoch 63/100\n",
      "1407/1407 [==============================] - 7s 5ms/step - loss: 1.1148 - accuracy: 0.5983 - val_loss: 1.6389 - val_accuracy: 0.4646\n",
      "Epoch 64/100\n",
      "1407/1407 [==============================] - 7s 5ms/step - loss: 1.1076 - accuracy: 0.6008 - val_loss: 1.6070 - val_accuracy: 0.4686\n"
     ]
    },
    {
     "data": {
      "text/plain": [
       "<keras.src.callbacks.History at 0x7fa50b908c10>"
      ]
     },
     "execution_count": 61,
     "metadata": {},
     "output_type": "execute_result"
    }
   ],
   "source": [
    "model.fit(X_train, y_train, epochs=100,\n",
    "          validation_data=[X_valid, y_valid],\n",
    "          callbacks=callbacks)"
   ]
  },
  {
   "cell_type": "code",
   "execution_count": 62,
   "id": "9fb95a48-9e15-4a97-bebc-c3d5c739d9f1",
   "metadata": {},
   "outputs": [],
   "source": [
    "best_model = keras.models.load_model(\"my_cifar10_model.h5\")"
   ]
  },
  {
   "cell_type": "code",
   "execution_count": 63,
   "id": "a1132624-b5ff-4b70-8156-5057ef483f49",
   "metadata": {},
   "outputs": [
    {
     "name": "stdout",
     "output_type": "stream",
     "text": [
      "157/157 [==============================] - 0s 2ms/step - loss: 1.5246 - accuracy: 0.4738\n"
     ]
    },
    {
     "data": {
      "text/plain": [
       "[1.5246142148971558, 0.47380000352859497]"
      ]
     },
     "execution_count": 63,
     "metadata": {},
     "output_type": "execute_result"
    }
   ],
   "source": [
    "best_model.evaluate(X_valid, y_valid)"
   ]
  },
  {
   "cell_type": "code",
   "execution_count": 65,
   "id": "48c24cde-7efd-4aeb-8f50-c6d8bcc50eb8",
   "metadata": {},
   "outputs": [
    {
     "name": "stdout",
     "output_type": "stream",
     "text": [
      "Epoch 1/100\n",
      "1407/1407 [==============================] - 23s 10ms/step - loss: 1.8399 - accuracy: 0.3390 - val_loss: 1.6501 - val_accuracy: 0.4188\n",
      "Epoch 2/100\n",
      "   7/1407 [..............................] - ETA: 12s - loss: 1.6666 - accuracy: 0.4062"
     ]
    },
    {
     "name": "stderr",
     "output_type": "stream",
     "text": [
      "/home/mihnea/personal/ai/env/lib/python3.10/site-packages/keras/src/engine/training.py:3000: UserWarning: You are saving your model as an HDF5 file via `model.save()`. This file format is considered legacy. We recommend using instead the native Keras format, e.g. `model.save('my_model.keras')`.\n",
      "  saving_api.save_model(\n"
     ]
    },
    {
     "name": "stdout",
     "output_type": "stream",
     "text": [
      "1407/1407 [==============================] - 13s 10ms/step - loss: 1.6686 - accuracy: 0.4061 - val_loss: 1.5798 - val_accuracy: 0.4302\n",
      "Epoch 3/100\n",
      "1407/1407 [==============================] - 13s 9ms/step - loss: 1.6015 - accuracy: 0.4323 - val_loss: 1.5385 - val_accuracy: 0.4532\n",
      "Epoch 4/100\n",
      "1407/1407 [==============================] - 13s 10ms/step - loss: 1.5501 - accuracy: 0.4483 - val_loss: 1.5115 - val_accuracy: 0.4632\n",
      "Epoch 5/100\n",
      "1407/1407 [==============================] - 14s 10ms/step - loss: 1.5073 - accuracy: 0.4652 - val_loss: 1.4626 - val_accuracy: 0.4788\n",
      "Epoch 6/100\n",
      "1407/1407 [==============================] - 14s 10ms/step - loss: 1.4687 - accuracy: 0.4812 - val_loss: 1.4205 - val_accuracy: 0.4988\n",
      "Epoch 7/100\n",
      "1407/1407 [==============================] - 13s 9ms/step - loss: 1.4348 - accuracy: 0.4901 - val_loss: 1.4416 - val_accuracy: 0.4912\n",
      "Epoch 8/100\n",
      "1407/1407 [==============================] - 13s 9ms/step - loss: 1.4057 - accuracy: 0.5029 - val_loss: 1.4035 - val_accuracy: 0.5052\n",
      "Epoch 9/100\n",
      "1407/1407 [==============================] - 13s 9ms/step - loss: 1.3832 - accuracy: 0.5125 - val_loss: 1.3904 - val_accuracy: 0.5116\n",
      "Epoch 10/100\n",
      "1407/1407 [==============================] - 13s 9ms/step - loss: 1.3617 - accuracy: 0.5187 - val_loss: 1.3533 - val_accuracy: 0.5152\n",
      "Epoch 11/100\n",
      "1407/1407 [==============================] - 13s 9ms/step - loss: 1.3417 - accuracy: 0.5258 - val_loss: 1.3765 - val_accuracy: 0.5136\n",
      "Epoch 12/100\n",
      "1407/1407 [==============================] - 13s 9ms/step - loss: 1.3171 - accuracy: 0.5374 - val_loss: 1.3980 - val_accuracy: 0.5002\n",
      "Epoch 13/100\n",
      "1407/1407 [==============================] - 13s 9ms/step - loss: 1.2998 - accuracy: 0.5407 - val_loss: 1.3797 - val_accuracy: 0.5210\n",
      "Epoch 14/100\n",
      "1407/1407 [==============================] - 13s 10ms/step - loss: 1.2831 - accuracy: 0.5481 - val_loss: 1.3471 - val_accuracy: 0.5316\n",
      "Epoch 15/100\n",
      "1407/1407 [==============================] - 13s 9ms/step - loss: 1.2650 - accuracy: 0.5522 - val_loss: 1.3934 - val_accuracy: 0.5148\n",
      "Epoch 16/100\n",
      "1407/1407 [==============================] - 13s 9ms/step - loss: 1.2522 - accuracy: 0.5563 - val_loss: 1.3717 - val_accuracy: 0.5298\n",
      "Epoch 17/100\n",
      "1407/1407 [==============================] - 13s 9ms/step - loss: 1.2348 - accuracy: 0.5632 - val_loss: 1.3365 - val_accuracy: 0.5344\n",
      "Epoch 18/100\n",
      "1407/1407 [==============================] - 13s 9ms/step - loss: 1.2164 - accuracy: 0.5719 - val_loss: 1.3363 - val_accuracy: 0.5388\n",
      "Epoch 19/100\n",
      "1407/1407 [==============================] - 13s 9ms/step - loss: 1.2074 - accuracy: 0.5738 - val_loss: 1.3467 - val_accuracy: 0.5274\n",
      "Epoch 20/100\n",
      "1407/1407 [==============================] - 13s 9ms/step - loss: 1.1913 - accuracy: 0.5789 - val_loss: 1.3668 - val_accuracy: 0.5268\n",
      "Epoch 21/100\n",
      "1407/1407 [==============================] - 13s 10ms/step - loss: 1.1790 - accuracy: 0.5841 - val_loss: 1.3666 - val_accuracy: 0.5248\n",
      "Epoch 22/100\n",
      "1407/1407 [==============================] - 13s 9ms/step - loss: 1.1625 - accuracy: 0.5922 - val_loss: 1.3415 - val_accuracy: 0.5308\n",
      "Epoch 23/100\n",
      "1407/1407 [==============================] - 13s 10ms/step - loss: 1.1484 - accuracy: 0.5955 - val_loss: 1.3241 - val_accuracy: 0.5408\n",
      "Epoch 24/100\n",
      "1407/1407 [==============================] - 13s 10ms/step - loss: 1.1425 - accuracy: 0.5972 - val_loss: 1.3207 - val_accuracy: 0.5452\n",
      "Epoch 25/100\n",
      "1407/1407 [==============================] - 13s 9ms/step - loss: 1.1301 - accuracy: 0.6030 - val_loss: 1.3387 - val_accuracy: 0.5448\n",
      "Epoch 26/100\n",
      "1407/1407 [==============================] - 13s 9ms/step - loss: 1.1100 - accuracy: 0.6110 - val_loss: 1.3499 - val_accuracy: 0.5380\n",
      "Epoch 27/100\n",
      "1407/1407 [==============================] - 13s 9ms/step - loss: 1.0993 - accuracy: 0.6140 - val_loss: 1.3588 - val_accuracy: 0.5286\n",
      "Epoch 28/100\n",
      "1407/1407 [==============================] - 13s 9ms/step - loss: 1.0958 - accuracy: 0.6151 - val_loss: 1.3448 - val_accuracy: 0.5340\n",
      "Epoch 29/100\n",
      "1407/1407 [==============================] - 13s 9ms/step - loss: 1.0822 - accuracy: 0.6162 - val_loss: 1.3523 - val_accuracy: 0.5322\n",
      "Epoch 30/100\n",
      "1407/1407 [==============================] - 13s 9ms/step - loss: 1.0737 - accuracy: 0.6227 - val_loss: 1.3370 - val_accuracy: 0.5430\n",
      "Epoch 31/100\n",
      "1407/1407 [==============================] - 13s 9ms/step - loss: 1.0579 - accuracy: 0.6276 - val_loss: 1.3408 - val_accuracy: 0.5384\n",
      "Epoch 32/100\n",
      "1407/1407 [==============================] - 13s 9ms/step - loss: 1.0477 - accuracy: 0.6295 - val_loss: 1.3715 - val_accuracy: 0.5384\n",
      "Epoch 33/100\n",
      "1407/1407 [==============================] - 13s 9ms/step - loss: 1.0354 - accuracy: 0.6353 - val_loss: 1.3689 - val_accuracy: 0.5472\n",
      "Epoch 34/100\n",
      "1407/1407 [==============================] - 13s 9ms/step - loss: 1.0261 - accuracy: 0.6367 - val_loss: 1.3613 - val_accuracy: 0.5432\n",
      "Epoch 35/100\n",
      "1407/1407 [==============================] - 13s 9ms/step - loss: 1.0191 - accuracy: 0.6410 - val_loss: 1.3419 - val_accuracy: 0.5480\n",
      "Epoch 36/100\n",
      "1407/1407 [==============================] - 13s 9ms/step - loss: 1.0116 - accuracy: 0.6442 - val_loss: 1.3355 - val_accuracy: 0.5526\n",
      "Epoch 37/100\n",
      "1407/1407 [==============================] - 13s 9ms/step - loss: 0.9913 - accuracy: 0.6498 - val_loss: 1.3660 - val_accuracy: 0.5436\n",
      "Epoch 38/100\n",
      "1407/1407 [==============================] - 13s 9ms/step - loss: 0.9895 - accuracy: 0.6504 - val_loss: 1.3655 - val_accuracy: 0.5430\n",
      "Epoch 39/100\n",
      "1407/1407 [==============================] - 13s 9ms/step - loss: 0.9782 - accuracy: 0.6546 - val_loss: 1.3904 - val_accuracy: 0.5434\n",
      "Epoch 40/100\n",
      "1407/1407 [==============================] - 13s 9ms/step - loss: 0.9668 - accuracy: 0.6586 - val_loss: 1.3821 - val_accuracy: 0.5340\n",
      "Epoch 41/100\n",
      "1407/1407 [==============================] - 13s 10ms/step - loss: 0.9650 - accuracy: 0.6604 - val_loss: 1.3696 - val_accuracy: 0.5498\n",
      "Epoch 42/100\n",
      "1407/1407 [==============================] - 13s 9ms/step - loss: 0.9518 - accuracy: 0.6659 - val_loss: 1.3915 - val_accuracy: 0.5334\n",
      "Epoch 43/100\n",
      "1407/1407 [==============================] - 14s 10ms/step - loss: 0.9505 - accuracy: 0.6647 - val_loss: 1.4130 - val_accuracy: 0.5320\n",
      "Epoch 44/100\n",
      "1407/1407 [==============================] - 15s 11ms/step - loss: 0.9382 - accuracy: 0.6713 - val_loss: 1.4196 - val_accuracy: 0.5374\n",
      "157/157 [==============================] - 1s 3ms/step - loss: 1.3207 - accuracy: 0.5452\n"
     ]
    },
    {
     "data": {
      "text/plain": [
       "[1.3206573724746704, 0.545199990272522]"
      ]
     },
     "execution_count": 65,
     "metadata": {},
     "output_type": "execute_result"
    }
   ],
   "source": [
    "import numpy as np\n",
    "\n",
    "keras.backend.clear_session()\n",
    "tf.random.set_seed(42)\n",
    "np.random.seed(42)\n",
    "\n",
    "model = keras.models.Sequential()\n",
    "model.add(keras.layers.Flatten(input_shape=[32, 32, 3]))\n",
    "model.add(keras.layers.BatchNormalization())\n",
    "for _ in range(20):\n",
    "    model.add(keras.layers.Dense(100, kernel_initializer=\"he_normal\"))\n",
    "    model.add(keras.layers.BatchNormalization())\n",
    "    model.add(keras.layers.Activation(\"elu\"))\n",
    "model.add(keras.layers.Dense(10, activation=\"softmax\"))\n",
    "\n",
    "optimizer = keras.optimizers.Nadam(learning_rate=5e-4)\n",
    "model.compile(loss=\"sparse_categorical_crossentropy\",\n",
    "              optimizer=optimizer,\n",
    "              metrics=[\"accuracy\"])\n",
    "\n",
    "early_stopping_cb = keras.callbacks.EarlyStopping(patience=20)\n",
    "model_checkpoint_cb = keras.callbacks.ModelCheckpoint(\"my_cifar10_bn_model.h5\", save_best_only=True)\n",
    "run_index = 1 # increment every time you train the model\n",
    "run_logdir = os.path.join(os.curdir, \"my_cifar10_logs\", \"run_bn_{:03d}\".format(run_index))\n",
    "tensorboard_cb = keras.callbacks.TensorBoard(run_logdir)\n",
    "callbacks = [early_stopping_cb, model_checkpoint_cb, tensorboard_cb]\n",
    "\n",
    "model.fit(X_train, y_train, epochs=100,\n",
    "          validation_data=(X_valid, y_valid),\n",
    "          callbacks=callbacks)\n",
    "\n",
    "model = keras.models.load_model(\"my_cifar10_bn_model.h5\")\n",
    "model.evaluate(X_valid, y_valid)"
   ]
  },
  {
   "cell_type": "code",
   "execution_count": null,
   "id": "a5540bae-5e03-43ba-afe1-6aade096ddc5",
   "metadata": {},
   "outputs": [],
   "source": []
  }
 ],
 "metadata": {
  "kernelspec": {
   "display_name": "Python 3 (ipykernel)",
   "language": "python",
   "name": "python3"
  },
  "language_info": {
   "codemirror_mode": {
    "name": "ipython",
    "version": 3
   },
   "file_extension": ".py",
   "mimetype": "text/x-python",
   "name": "python",
   "nbconvert_exporter": "python",
   "pygments_lexer": "ipython3",
   "version": "3.10.12"
  }
 },
 "nbformat": 4,
 "nbformat_minor": 5
}
